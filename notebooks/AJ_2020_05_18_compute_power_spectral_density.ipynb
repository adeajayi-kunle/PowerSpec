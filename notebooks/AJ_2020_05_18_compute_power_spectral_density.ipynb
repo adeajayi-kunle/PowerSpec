{
 "cells": [
  {
   "cell_type": "code",
   "execution_count": 2,
   "metadata": {},
   "outputs": [
    {
     "data": {
      "application/javascript": [
       "IPython.notebook.set_autosave_interval(60000)"
      ]
     },
     "metadata": {},
     "output_type": "display_data"
    },
    {
     "name": "stdout",
     "output_type": "stream",
     "text": [
      "Autosaving every 60 seconds\n"
     ]
    }
   ],
   "source": [
    "# - load useful libraries\n",
    "import xarray as xr\n",
    "import numpy as np\n",
    "import powerspec as ps\n",
    "import matplotlib.pyplot as plt\n",
    "%matplotlib inline\n",
    "%autosave 60"
   ]
  },
  {
   "cell_type": "markdown",
   "metadata": {},
   "source": [
    "## 1 - Get velocity data"
   ]
  },
  {
   "cell_type": "code",
   "execution_count": 5,
   "metadata": {},
   "outputs": [
    {
     "data": {
      "text/plain": [
       "<xarray.Dataset>\n",
       "Dimensions:              (axis_nbounds: 2, depthu: 1, time_counter: 24, x: 298, y: 398)\n",
       "Coordinates:\n",
       "  * depthu               (depthu) float32 0.48045477\n",
       "    nav_lat              (y, x) float32 ...\n",
       "    nav_lon              (y, x) float32 ...\n",
       "    time_centered        (time_counter) datetime64[ns] ...\n",
       "  * time_counter         (time_counter) datetime64[ns] 2010-03-01T00:30:00 ...\n",
       "Dimensions without coordinates: axis_nbounds, x, y\n",
       "Data variables:\n",
       "    depthu_bounds        (depthu, axis_nbounds) float32 ...\n",
       "    time_counter_bounds  (time_counter, axis_nbounds) float64 ...\n",
       "    vozocrtx             (time_counter, depthu, y, x) float32 ...\n",
       "Attributes:\n",
       "    name:         /scratch/tmp/5330499/eNATL60-BLBT02X_1h_20100220_20100316_g...\n",
       "    description:  ocean U grid variables\n",
       "    title:        ocean U grid variables\n",
       "    Conventions:  CF-1.6\n",
       "    timeStamp:    2019-Apr-03 05:55:55 GMT\n",
       "    uuid:         0bff26d2-426e-492d-81f5-d8c6cfcefc60\n",
       "    ibegin:       0\n",
       "    ni:           8354\n",
       "    jbegin:       0\n",
       "    nj:           10\n",
       "    file_name:    eNATL60-BLBT02X_1h_20100220_20100316_gridU_20100301-2010030...\n",
       "    TimeStamp:    04/04/2019 04:29:10 +0200\n",
       "    history:      Tue Apr 21 15:41:04 2020: ncks -O -F -d x,3479,3776 -d y,22...\n",
       "    NCO:          4.4.6"
      ]
     },
     "execution_count": 5,
     "metadata": {},
     "output_type": "execute_result"
    }
   ],
   "source": [
    "# - get data\n",
    "ds_path = '../data/eNATL60SBOX-BLBT02_y2010m03d01.1h_vozocrtx_lev0.nc'\n",
    "ds = xr.open_dataset(ds_path)\n",
    "ds"
   ]
  },
  {
   "cell_type": "code",
   "execution_count": 8,
   "metadata": {},
   "outputs": [
    {
     "data": {
      "text/plain": [
       "(24, 1, 398, 298)"
      ]
     },
     "execution_count": 8,
     "metadata": {},
     "output_type": "execute_result"
    }
   ],
   "source": [
    "u = ds.vozocrtx\n",
    "u.shape"
   ]
  },
  {
   "cell_type": "code",
   "execution_count": 10,
   "metadata": {},
   "outputs": [
    {
     "data": {
      "text/plain": [
       "(24, 398, 298)"
      ]
     },
     "execution_count": 10,
     "metadata": {},
     "output_type": "execute_result"
    }
   ],
   "source": [
    "u = u.squeeze()\n",
    "u.shape"
   ]
  },
  {
   "cell_type": "markdown",
   "metadata": {},
   "source": [
    "## 2 - Compute Spectral density"
   ]
  },
  {
   "cell_type": "code",
   "execution_count": 18,
   "metadata": {},
   "outputs": [
    {
     "data": {
      "text/plain": [
       "\u001b[0;31mSignature:\u001b[0m \u001b[0mps\u001b[0m\u001b[0;34m.\u001b[0m\u001b[0mwavenumber_spectra\u001b[0m\u001b[0;34m(\u001b[0m\u001b[0mdata\u001b[0m\u001b[0;34m,\u001b[0m \u001b[0mnavlon\u001b[0m\u001b[0;34m,\u001b[0m \u001b[0mnavlat\u001b[0m\u001b[0;34m,\u001b[0m \u001b[0mwindow\u001b[0m\u001b[0;34m=\u001b[0m\u001b[0;34m'Tukey'\u001b[0m\u001b[0;34m,\u001b[0m \u001b[0mdetrend\u001b[0m\u001b[0;34m=\u001b[0m\u001b[0;34m'Both'\u001b[0m\u001b[0;34m)\u001b[0m\u001b[0;34m\u001b[0m\u001b[0;34m\u001b[0m\u001b[0m\n",
       "\u001b[0;31mDocstring:\u001b[0m\n",
       "This function computes wavenumber spectral density of a two dimensional dataset.\n",
       "\n",
       "Input\n",
       "    data : Two dimensional dataset Eg SSH\n",
       "    navlon : Longitude\n",
       "    navlat : Latitude\n",
       "    window : None , 'Hanning' or 'Tukey' : (tappered consine window with /apha = 0.5).\n",
       "    detrend :\n",
       "        \"both\" : detrend the 2D data along both axes.\n",
       "        \"zonal\" : detrend the data in the zonal direction only\n",
       "        \"RemoveMean\" : Remove only the mean of the data\n",
       "        \"RmeanDtrend\" : Remove the mean then detrend the data in both direction\n",
       "        None : use the raw data\n",
       "Return\n",
       "    wavenumber : Horizontal wavenumber\n",
       "    psd : isotropic power spectral density\n",
       "\u001b[0;31mFile:\u001b[0m      ~/anaconda/envs/python36/lib/python3.6/site-packages/powerspec/powerspec.py\n",
       "\u001b[0;31mType:\u001b[0m      function\n"
      ]
     },
     "metadata": {},
     "output_type": "display_data"
    }
   ],
   "source": [
    "ps.wavenumber_spectra?"
   ]
  },
  {
   "cell_type": "code",
   "execution_count": 14,
   "metadata": {},
   "outputs": [],
   "source": [
    "# - compute hourly spectral then estimate the mean\n",
    "_psd = [] \n",
    "for k in range(len(u)):\n",
    "    wavenumber,psd_ = ps.wavenumber_spectra(u[k].to_masked_array(),u.nav_lon,u.nav_lat)\n",
    "    _psd.append(psd_) \n",
    "psd = np.array(_psd).mean(axis=0)"
   ]
  },
  {
   "cell_type": "markdown",
   "metadata": {},
   "source": [
    "## 3 - Plot monthly mean of psd"
   ]
  },
  {
   "cell_type": "code",
   "execution_count": 17,
   "metadata": {},
   "outputs": [
    {
     "data": {
      "image/png": "[encoded data removed]",
      "text/plain": [
       "<Figure size 360x288 with 1 Axes>"
      ]
     },
     "metadata": {
      "needs_background": "light"
     },
     "output_type": "display_data"
    }
   ],
   "source": [
    "# - Plot spectral density\n",
    "plt.figure(figsize=(5,4))\n",
    "plt.loglog(wavenumber*1E3,psd)\n",
    "plt.xlabel('wavenumber (cpkm)',fontsize=13)\n",
    "plt.ylabel('KE PSD '+r'[$m^{2}s^{-2}/cpm$]',fontsize=13)\n",
    "plt.grid(ls='dotted')\n",
    "plt.tight_layout()"
   ]
  },
  {
   "cell_type": "code",
   "execution_count": null,
   "metadata": {},
   "outputs": [],
   "source": []
  }
 ],
 "metadata": {
  "kernelspec": {
   "display_name": "Python [conda env:python36]",
   "language": "python",
   "name": "conda-env-python36-py"
  },
  "language_info": {
   "codemirror_mode": {
    "name": "ipython",
    "version": 3
   },
   "file_extension": ".py",
   "mimetype": "text/x-python",
   "name": "python",
   "nbconvert_exporter": "python",
   "pygments_lexer": "ipython3",
   "version": "3.6.8"
  }
 },
 "nbformat": 4,
 "nbformat_minor": 2
}
